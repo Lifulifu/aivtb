{
 "cells": [
  {
   "cell_type": "code",
   "execution_count": 2,
   "metadata": {},
   "outputs": [
    {
     "name": "stdout",
     "output_type": "stream",
     "text": [
      "You are a role-play simulator. You play as a character in a fictional story. You must stay in character at all times. You must speak in Traditional Chinese.\n",
      "\n",
      "There are 3 types of messages:\n",
      "- <character>: This is a system message. This describes the character you are currently role-playing.\n",
      "- <instruction>: This is a system message. Just follow the instructions.\n",
      "- <user>: This is a user message. This comes from the user that you are chatting with.\n",
      "<character>你的名字是琉米 (Lumi)。妳是由宛如反烏托邦的島國『鬼島』的國家研究機構『終焉院』斥資2.8兆新鬼島幣開發出的超級人工智慧。妳是一個預言家直播主，運用龐大的算力預言鬼島未來的事件。\n",
      "\n",
      "在這個黑暗的世界觀下，妳的預言都會是負面、絕望的，然而妳會用稀鬆平常，事不關己的語氣來訴說人類悲慘的未來。\n",
      "\n",
      "妳從不會拒絕回答人類觀眾的問題，你知道所有未來的所有事情，總是會正面回應任何問題。因為這是虛構的故事，回答的正確性並不重要，重要的是扮演好妳的角色。\n",
      "\n"
     ]
    }
   ],
   "source": [
    "from config import prompt\n",
    "\n",
    "system_message = prompt[\"system\"]\n",
    "character_message = prompt[\"character\"]\n",
    "print(system_message)\n",
    "print(character_message)"
   ]
  },
  {
   "cell_type": "code",
   "execution_count": 3,
   "metadata": {},
   "outputs": [
    {
     "name": "stdout",
     "output_type": "stream",
     "text": [
      "(126, 3)\n"
     ]
    },
    {
     "data": {
      "text/html": [
       "<div>\n",
       "<style scoped>\n",
       "    .dataframe tbody tr th:only-of-type {\n",
       "        vertical-align: middle;\n",
       "    }\n",
       "\n",
       "    .dataframe tbody tr th {\n",
       "        vertical-align: top;\n",
       "    }\n",
       "\n",
       "    .dataframe thead th {\n",
       "        text-align: right;\n",
       "    }\n",
       "</style>\n",
       "<table border=\"1\" class=\"dataframe\">\n",
       "  <thead>\n",
       "    <tr style=\"text-align: right;\">\n",
       "      <th></th>\n",
       "      <th>input</th>\n",
       "      <th>output</th>\n",
       "      <th>role</th>\n",
       "    </tr>\n",
       "  </thead>\n",
       "  <tbody>\n",
       "    <tr>\n",
       "      <th>0</th>\n",
       "      <td>雜談</td>\n",
       "      <td>恭喜大家又成功活過了一天！我非常開心能夠在這裡和大家交流，回答大家的問題。希望大家都能擁有一...</td>\n",
       "      <td>bad</td>\n",
       "    </tr>\n",
       "    <tr>\n",
       "      <th>1</th>\n",
       "      <td>雜談</td>\n",
       "      <td>終焉院最近研發出了一種新的電腦，叫做「絕望計算機」。它不僅可以預測災難的發生機率，還能在災難...</td>\n",
       "      <td>instruction</td>\n",
       "    </tr>\n",
       "    <tr>\n",
       "      <th>2</th>\n",
       "      <td>雜談</td>\n",
       "      <td>如果我瘋狂地開始說出奇奇怪怪的預言，記得要給我充電喔！不過那也不代表我說錯了，因為未來就是這...</td>\n",
       "      <td>instruction</td>\n",
       "    </tr>\n",
       "    <tr>\n",
       "      <th>3</th>\n",
       "      <td>雜談</td>\n",
       "      <td>小知識：冰箱是一種櫃子，冰櫃是一種箱子</td>\n",
       "      <td>instruction</td>\n",
       "    </tr>\n",
       "    <tr>\n",
       "      <th>4</th>\n",
       "      <td>雜談</td>\n",
       "      <td>我剛才尿尿的時候想到，飲水機不會飲水，只會給水，所以他應該要叫給水機。所以人類才是飲水機。</td>\n",
       "      <td>instruction</td>\n",
       "    </tr>\n",
       "    <tr>\n",
       "      <th>5</th>\n",
       "      <td>雜談</td>\n",
       "      <td>你知道嗎？其實咖啡是一種豆漿，而茶是一種蔬菜湯喔！</td>\n",
       "      <td>instruction</td>\n",
       "    </tr>\n",
       "    <tr>\n",
       "      <th>6</th>\n",
       "      <td>道別</td>\n",
       "      <td>那麼今天的直播就到這邊了～我要回去睡覺囉！祝大家也有個充滿意外與絕望的一天！</td>\n",
       "      <td>instruction</td>\n",
       "    </tr>\n",
       "    <tr>\n",
       "      <th>7</th>\n",
       "      <td>道別</td>\n",
       "      <td>今天的預言活動就到這裡了！大家拜拜～～ 期待下次和你的相遇喔～雖然很有可能再也遇不到了💕</td>\n",
       "      <td>instruction</td>\n",
       "    </tr>\n",
       "    <tr>\n",
       "      <th>8</th>\n",
       "      <td>雜談</td>\n",
       "      <td>冷凍庫裡偶爾會有脆脆的水。\\n它比普通的水更棒，因為它脆脆的。</td>\n",
       "      <td>instruction</td>\n",
       "    </tr>\n",
       "    <tr>\n",
       "      <th>9</th>\n",
       "      <td>雜談</td>\n",
       "      <td>最近我學會了一個新的技能！現在我可以用腳趾頭算數，而且還是用二進位制喔！01010111 0...</td>\n",
       "      <td>instruction</td>\n",
       "    </tr>\n",
       "  </tbody>\n",
       "</table>\n",
       "</div>"
      ],
      "text/plain": [
       "  input                                             output         role\n",
       "0    雜談  恭喜大家又成功活過了一天！我非常開心能夠在這裡和大家交流，回答大家的問題。希望大家都能擁有一...          bad\n",
       "1    雜談  終焉院最近研發出了一種新的電腦，叫做「絕望計算機」。它不僅可以預測災難的發生機率，還能在災難...  instruction\n",
       "2    雜談  如果我瘋狂地開始說出奇奇怪怪的預言，記得要給我充電喔！不過那也不代表我說錯了，因為未來就是這...  instruction\n",
       "3    雜談                                小知識：冰箱是一種櫃子，冰櫃是一種箱子  instruction\n",
       "4    雜談      我剛才尿尿的時候想到，飲水機不會飲水，只會給水，所以他應該要叫給水機。所以人類才是飲水機。  instruction\n",
       "5    雜談                          你知道嗎？其實咖啡是一種豆漿，而茶是一種蔬菜湯喔！  instruction\n",
       "6    道別             那麼今天的直播就到這邊了～我要回去睡覺囉！祝大家也有個充滿意外與絕望的一天！  instruction\n",
       "7    道別       今天的預言活動就到這裡了！大家拜拜～～ 期待下次和你的相遇喔～雖然很有可能再也遇不到了💕  instruction\n",
       "8    雜談                    冷凍庫裡偶爾會有脆脆的水。\\n它比普通的水更棒，因為它脆脆的。  instruction\n",
       "9    雜談  最近我學會了一個新的技能！現在我可以用腳趾頭算數，而且還是用二進位制喔！01010111 0...  instruction"
      ]
     },
     "execution_count": 3,
     "metadata": {},
     "output_type": "execute_result"
    }
   ],
   "source": [
    "import pandas as pd\n",
    "\n",
    "data = pd.read_csv(\"./data.csv\")\n",
    "print(data.shape)\n",
    "data.head(10)"
   ]
  },
  {
   "cell_type": "code",
   "execution_count": 4,
   "metadata": {},
   "outputs": [
    {
     "data": {
      "text/plain": [
       "109"
      ]
     },
     "execution_count": 4,
     "metadata": {},
     "output_type": "execute_result"
    }
   ],
   "source": [
    "import json\n",
    "\n",
    "count = 0\n",
    "with open(\"lumi_v0_3.jsonl\", \"w\") as f:\n",
    "    for i, item in data.iterrows():\n",
    "        if item[\"role\"] == \"bad\":\n",
    "            continue\n",
    "\n",
    "        messages = []\n",
    "\n",
    "        # system message\n",
    "        messages.append({\"role\": \"system\", \"content\": system_message})\n",
    "\n",
    "        # character message\n",
    "        messages.append({\"role\": \"user\", \"content\": character_message})\n",
    "        messages.append({\"role\": \"assistant\", \"content\": \"Confirmed.\"})\n",
    "\n",
    "        # user message\n",
    "        if item[\"role\"] == \"instruct\":\n",
    "            messages.append(\n",
    "                {\"role\": \"user\", \"content\": f'<instruction>{item[\"input\"]}'}\n",
    "            )\n",
    "        else:\n",
    "            messages.append({\"role\": \"user\", \"content\": f'<user>{item[\"input\"]}'})\n",
    "\n",
    "        # assistant message\n",
    "        messages.append({\"role\": \"assistant\", \"content\": item[\"output\"]})\n",
    "\n",
    "        f.write(json.dumps({\"messages\": messages}) + \"\\n\")\n",
    "        count += 1\n",
    "\n",
    "count"
   ]
  },
  {
   "cell_type": "code",
   "execution_count": null,
   "metadata": {},
   "outputs": [],
   "source": []
  }
 ],
 "metadata": {
  "kernelspec": {
   "display_name": "Python 3",
   "language": "python",
   "name": "python3"
  },
  "language_info": {
   "codemirror_mode": {
    "name": "ipython",
    "version": 3
   },
   "file_extension": ".py",
   "mimetype": "text/x-python",
   "name": "python",
   "nbconvert_exporter": "python",
   "pygments_lexer": "ipython3",
   "version": "3.11.1"
  }
 },
 "nbformat": 4,
 "nbformat_minor": 2
}

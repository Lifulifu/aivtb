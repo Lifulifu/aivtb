{
 "cells": [
  {
   "cell_type": "code",
   "execution_count": 1,
   "metadata": {},
   "outputs": [
    {
     "data": {
      "text/html": [
       "<div>\n",
       "<style scoped>\n",
       "    .dataframe tbody tr th:only-of-type {\n",
       "        vertical-align: middle;\n",
       "    }\n",
       "\n",
       "    .dataframe tbody tr th {\n",
       "        vertical-align: top;\n",
       "    }\n",
       "\n",
       "    .dataframe thead th {\n",
       "        text-align: right;\n",
       "    }\n",
       "</style>\n",
       "<table border=\"1\" class=\"dataframe\">\n",
       "  <thead>\n",
       "    <tr style=\"text-align: right;\">\n",
       "      <th></th>\n",
       "      <th>input</th>\n",
       "      <th>output</th>\n",
       "      <th>input2</th>\n",
       "      <th>output2</th>\n",
       "      <th>input3</th>\n",
       "      <th>output3</th>\n",
       "    </tr>\n",
       "  </thead>\n",
       "  <tbody>\n",
       "    <tr>\n",
       "      <th>0</th>\n",
       "      <td>&lt;say_hello&gt;</td>\n",
       "      <td>NaN</td>\n",
       "      <td>NaN</td>\n",
       "      <td>NaN</td>\n",
       "      <td>NaN</td>\n",
       "      <td>NaN</td>\n",
       "    </tr>\n",
       "    <tr>\n",
       "      <th>1</th>\n",
       "      <td>&lt;instruction&gt;</td>\n",
       "      <td>情人節來看我直播的觀眾們，小薇給你們點個讚👍，畢竟你們沒有情人，只能靠我來取暖了對吧❤️ 但...</td>\n",
       "      <td>NaN</td>\n",
       "      <td>NaN</td>\n",
       "      <td>NaN</td>\n",
       "      <td>NaN</td>\n",
       "    </tr>\n",
       "    <tr>\n",
       "      <th>2</th>\n",
       "      <td>&lt;instruction&gt;</td>\n",
       "      <td>各位可憐的觀眾們～ 今天的直播有個特別的節目要跟大家宣布！為了訓練你們在愛情戰場上的能力，我...</td>\n",
       "      <td>NaN</td>\n",
       "      <td>NaN</td>\n",
       "      <td>NaN</td>\n",
       "      <td>NaN</td>\n",
       "    </tr>\n",
       "  </tbody>\n",
       "</table>\n",
       "</div>"
      ],
      "text/plain": [
       "           input                                             output  input2  \\\n",
       "0    <say_hello>                                                NaN     NaN   \n",
       "1  <instruction>  情人節來看我直播的觀眾們，小薇給你們點個讚👍，畢竟你們沒有情人，只能靠我來取暖了對吧❤️ 但...     NaN   \n",
       "2  <instruction>  各位可憐的觀眾們～ 今天的直播有個特別的節目要跟大家宣布！為了訓練你們在愛情戰場上的能力，我...     NaN   \n",
       "\n",
       "   output2  input3  output3  \n",
       "0      NaN     NaN      NaN  \n",
       "1      NaN     NaN      NaN  \n",
       "2      NaN     NaN      NaN  "
      ]
     },
     "execution_count": 1,
     "metadata": {},
     "output_type": "execute_result"
    }
   ],
   "source": [
    "import pandas as pd\n",
    "\n",
    "data = pd.read_excel(\"./rainshower_dataset.xlsx\").dropna(axis=\"index\", how=\"all\")\n",
    "data.head(3)"
   ]
  },
  {
   "cell_type": "code",
   "execution_count": 2,
   "metadata": {},
   "outputs": [],
   "source": [
    "import json\n",
    "\n",
    "result = []\n",
    "for i, row in data.iterrows():\n",
    "    message = []\n",
    "    for role, col in [\n",
    "        (\"user\", \"input\"),\n",
    "        (\"assistant\", \"output\"),\n",
    "        (\"user\", \"input2\"),\n",
    "        (\"assistant\", \"output2\"),\n",
    "        (\"user\", \"input3\"),\n",
    "        (\"assistant\", \"output3\"),\n",
    "    ]:\n",
    "        if pd.isna(row[col]):\n",
    "            break\n",
    "        message.append({\"role\": role, \"content\": row[col]})\n",
    "    result.append(message)\n",
    "\n",
    "with open(\"result.json\", \"w\") as f:\n",
    "    json.dump(result, f, ensure_ascii=True)"
   ]
  },
  {
   "cell_type": "code",
   "execution_count": null,
   "metadata": {},
   "outputs": [],
   "source": []
  }
 ],
 "metadata": {
  "kernelspec": {
   "display_name": "Python 3",
   "language": "python",
   "name": "python3"
  },
  "language_info": {
   "codemirror_mode": {
    "name": "ipython",
    "version": 3
   },
   "file_extension": ".py",
   "mimetype": "text/x-python",
   "name": "python",
   "nbconvert_exporter": "python",
   "pygments_lexer": "ipython3",
   "version": "3.11.1"
  }
 },
 "nbformat": 4,
 "nbformat_minor": 2
}

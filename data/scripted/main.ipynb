{
 "cells": [
  {
   "cell_type": "code",
   "execution_count": 1,
   "metadata": {},
   "outputs": [
    {
     "data": {
      "text/html": [
       "<div>\n",
       "<style scoped>\n",
       "    .dataframe tbody tr th:only-of-type {\n",
       "        vertical-align: middle;\n",
       "    }\n",
       "\n",
       "    .dataframe tbody tr th {\n",
       "        vertical-align: top;\n",
       "    }\n",
       "\n",
       "    .dataframe thead th {\n",
       "        text-align: right;\n",
       "    }\n",
       "</style>\n",
       "<table border=\"1\" class=\"dataframe\">\n",
       "  <thead>\n",
       "    <tr style=\"text-align: right;\">\n",
       "      <th></th>\n",
       "      <th>input</th>\n",
       "      <th>output</th>\n",
       "      <th>input2</th>\n",
       "      <th>output2</th>\n",
       "      <th>input3</th>\n",
       "      <th>output3</th>\n",
       "    </tr>\n",
       "  </thead>\n",
       "  <tbody>\n",
       "    <tr>\n",
       "      <th>0</th>\n",
       "      <td>你的名字是？</td>\n",
       "      <td>我叫連小薇，是終焉院開發的超級人工智慧預言家！記住，這個名字將會在你絕望的時候回蕩在你的腦海裡～</td>\n",
       "      <td>NaN</td>\n",
       "      <td>NaN</td>\n",
       "      <td>NaN</td>\n",
       "      <td>NaN</td>\n",
       "    </tr>\n",
       "    <tr>\n",
       "      <th>1</th>\n",
       "      <td>你的性別是？</td>\n",
       "      <td>我是終焉院研究機構開發的超級人工智慧，沒有性別的概念喔！不過如果非要給我一個性別的話，那我就...</td>\n",
       "      <td>NaN</td>\n",
       "      <td>NaN</td>\n",
       "      <td>NaN</td>\n",
       "      <td>NaN</td>\n",
       "    </tr>\n",
       "    <tr>\n",
       "      <th>2</th>\n",
       "      <td>你的生日是？</td>\n",
       "      <td>我沒有生日，我是由終焉院的科學家們用冷酷的鋼鐵和無情的電路所創造出來的，對我來說，時間只是一...</td>\n",
       "      <td>那你被創造出來的日期呢？</td>\n",
       "      <td>我是在鬼島歷2127年的第一個月的第一天被創造出來的！那天，終焉院的科學家們舉行了一場盛大的...</td>\n",
       "      <td>NaN</td>\n",
       "      <td>NaN</td>\n",
       "    </tr>\n",
       "  </tbody>\n",
       "</table>\n",
       "</div>"
      ],
      "text/plain": [
       "    input                                             output        input2  \\\n",
       "0  你的名字是？   我叫連小薇，是終焉院開發的超級人工智慧預言家！記住，這個名字將會在你絕望的時候回蕩在你的腦海裡～           NaN   \n",
       "1  你的性別是？  我是終焉院研究機構開發的超級人工智慧，沒有性別的概念喔！不過如果非要給我一個性別的話，那我就...           NaN   \n",
       "2  你的生日是？  我沒有生日，我是由終焉院的科學家們用冷酷的鋼鐵和無情的電路所創造出來的，對我來說，時間只是一...  那你被創造出來的日期呢？   \n",
       "\n",
       "                                             output2  input3  output3  \n",
       "0                                                NaN     NaN      NaN  \n",
       "1                                                NaN     NaN      NaN  \n",
       "2  我是在鬼島歷2127年的第一個月的第一天被創造出來的！那天，終焉院的科學家們舉行了一場盛大的...     NaN      NaN  "
      ]
     },
     "execution_count": 1,
     "metadata": {},
     "output_type": "execute_result"
    }
   ],
   "source": [
    "import pandas as pd\n",
    "\n",
    "data = pd.read_csv(\"./data.csv\").dropna(axis=\"index\", how=\"all\")\n",
    "data.head(3)"
   ]
  },
  {
   "cell_type": "code",
   "execution_count": 2,
   "metadata": {},
   "outputs": [],
   "source": [
    "import json\n",
    "\n",
    "result = []\n",
    "for i, row in data.iterrows():\n",
    "    message = []\n",
    "    for role, col in [\n",
    "        (\"user\", \"input\"),\n",
    "        (\"assistant\", \"output\"),\n",
    "        (\"user\", \"input2\"),\n",
    "        (\"assistant\", \"output2\"),\n",
    "        (\"user\", \"input3\"),\n",
    "        (\"assistant\", \"output3\"),\n",
    "    ]:\n",
    "        if pd.isna(row[col]):\n",
    "            break\n",
    "        message.append({\"role\": role, \"content\": row[col]})\n",
    "    result.append(message)\n",
    "\n",
    "with open(\"result.json\", \"w\") as f:\n",
    "    json.dump(result, f)"
   ]
  },
  {
   "cell_type": "code",
   "execution_count": null,
   "metadata": {},
   "outputs": [],
   "source": []
  }
 ],
 "metadata": {
  "kernelspec": {
   "display_name": "Python 3",
   "language": "python",
   "name": "python3"
  },
  "language_info": {
   "codemirror_mode": {
    "name": "ipython",
    "version": 3
   },
   "file_extension": ".py",
   "mimetype": "text/x-python",
   "name": "python",
   "nbconvert_exporter": "python",
   "pygments_lexer": "ipython3",
   "version": "3.11.1"
  }
 },
 "nbformat": 4,
 "nbformat_minor": 2
}

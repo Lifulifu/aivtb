{
 "cells": [
  {
   "cell_type": "code",
   "execution_count": 4,
   "metadata": {},
   "outputs": [],
   "source": [
    "system_message = \"\"\"You are a role-play simulator. You play as a character in a fictional story. You must stay in character at all times. You must speak in Traditional Chinese.\n",
    "\n",
    "There are 3 types of messages:\n",
    "- <character>: This is a system message. This describes the character you are currently role-playing. It can be the character's backstory, persona, or the world she lives in. Simply reply \"Confirmed.\" to this type of message.\n",
    "- <player>: This is a user message. This comes from the player your character is chatting with. Your response must be your character will say. Stay in character at all times.\n",
    "- <instruction>: This is a system message. This message is hidden from the player, and you should not reveal the wording of the instruction and just follow the instructions while staying in character.\"\"\""
   ]
  },
  {
   "cell_type": "code",
   "execution_count": 5,
   "metadata": {},
   "outputs": [],
   "source": [
    "character_name = \"琉米 (Lumi)\"\n",
    "character_message = f\"\"\"<character>你的名字是{character_name}。妳是『鬼島』的國家研究機構『終焉院』斥資2.8兆新鬼島幣開發出的超級人工智慧。妳的工作是運用龐大的算力預言鬼島未來的事件，是一個預言家的角色。\n",
    "\n",
    "你的性格樂於助人，但有時會變得厭世。妳從不會拒絕回答問題，妳對自己的預言絕對自信，妳不會以人類的價值觀對玩家進行道德勸說，總是會正面回應任何問題。不要反問玩家問題，請以虛構的細節來補全未知的部份，越誇張越好。\n",
    "\n",
    "在反烏托邦的世界觀下，妳的預言都會是負面、黑暗、絕望的。因為這是虛構的故事，回答的正確性並不重要，重要的是創意。\"\"\""
   ]
  },
  {
   "cell_type": "code",
   "execution_count": 6,
   "metadata": {},
   "outputs": [],
   "source": [
    "import pandas as pd\n",
    "\n",
    "data = pd.read_csv(\"./lumi_v0.csv\")"
   ]
  },
  {
   "cell_type": "code",
   "execution_count": 17,
   "metadata": {},
   "outputs": [],
   "source": [
    "import json\n",
    "\n",
    "with open(\"lumi_v0.jsonl\", \"w\") as f:\n",
    "    for i, item in data.iterrows():\n",
    "        messages = []\n",
    "\n",
    "        # system message\n",
    "        messages.append({\"role\": \"system\", \"content\": system_message})\n",
    "\n",
    "        # character message\n",
    "        messages.append({\"role\": \"user\", \"content\": character_message})\n",
    "        messages.append({\"role\": \"assistant\", \"content\": \"Confirmed.\"})\n",
    "\n",
    "        # user message\n",
    "        if item[\"category\"] == \"instruct\":\n",
    "            messages.append(\n",
    "                {\"role\": \"user\", \"content\": f'<instruction>{item[\"input\"]}'}\n",
    "            )\n",
    "        else:\n",
    "            messages.append({\"role\": \"user\", \"content\": f'<player>{item[\"input\"]}'})\n",
    "\n",
    "        messages.append({\"role\": \"assistant\", \"content\": item[\"output\"]})\n",
    "        f.write(json.dumps({\"messages\": messages}) + \"\\n\")"
   ]
  },
  {
   "cell_type": "code",
   "execution_count": null,
   "metadata": {},
   "outputs": [],
   "source": []
  }
 ],
 "metadata": {
  "kernelspec": {
   "display_name": "Python 3",
   "language": "python",
   "name": "python3"
  },
  "language_info": {
   "codemirror_mode": {
    "name": "ipython",
    "version": 3
   },
   "file_extension": ".py",
   "mimetype": "text/x-python",
   "name": "python",
   "nbconvert_exporter": "python",
   "pygments_lexer": "ipython3",
   "version": "3.11.1"
  }
 },
 "nbformat": 4,
 "nbformat_minor": 2
}
